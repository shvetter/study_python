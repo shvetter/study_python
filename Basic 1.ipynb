{
 "cells": [
  {
   "cell_type": "markdown",
   "metadata": {
    "tags": [
     "data_type"
    ]
   },
   "source": [
    "## Data types in python\n",
    "*int, float, str, bool*\n",
    "\n",
    "_int_ is integer (all number withot fraction) while _float_ is number with fraction (decimal point)\n",
    "_float_ takes more \n"
   ]
  },
  {
   "cell_type": "code",
   "execution_count": 15,
   "metadata": {
    "tags": [
     "data_type"
    ]
   },
   "outputs": [
    {
     "name": "stdout",
     "output_type": "stream",
     "text": [
      "<class 'bool'> <class 'int'>\n"
     ]
    }
   ],
   "source": [
    "## to check data type in Python we can use function type\n",
    "\n",
    "is_it_true = True\n",
    "i = 2\n",
    "print(type(is_it_true), type(i))"
   ]
  },
  {
   "cell_type": "markdown",
   "metadata": {
    "tags": [
     "data_type"
    ]
   },
   "source": [
    "Other data type **complex**\n",
    "It is complex number"
   ]
  },
  {
   "cell_type": "markdown",
   "metadata": {
    "tags": [
     "data_type"
    ]
   },
   "source": [
    "One more data type is **bin** - binary data type"
   ]
  },
  {
   "cell_type": "code",
   "execution_count": 40,
   "metadata": {
    "tags": [
     "data_type"
    ]
   },
   "outputs": [
    {
     "name": "stdout",
     "output_type": "stream",
     "text": [
      "0b101\n",
      "5\n"
     ]
    }
   ],
   "source": [
    "#print binary representation of int 5\n",
    "print(bin(5))\n",
    "#convert back to int(base 10)\n",
    "print(int('0b101', 2))"
   ]
  },
  {
   "cell_type": "markdown",
   "metadata": {
    "tags": [
     "data_type"
    ]
   },
   "source": [
    "## Classes\n",
    "**classes** are just custom data types. We can create our own"
   ]
  },
  {
   "cell_type": "markdown",
   "metadata": {},
   "source": [
    "## Operators\n",
    "**operators** are just symbols used to make some operatin between variables"
   ]
  },
  {
   "cell_type": "code",
   "execution_count": 16,
   "metadata": {},
   "outputs": [
    {
     "name": "stdout",
     "output_type": "stream",
     "text": [
      "<class 'int'> <class 'float'>\n"
     ]
    }
   ],
   "source": [
    "a = 5\n",
    "b = 6\n",
    "c = a / b\n",
    "# \"/\" here is operator\n",
    "#note that type of a and b are integers here, byt c type is float\n",
    "print(type(a),type(c))"
   ]
  },
  {
   "cell_type": "code",
   "execution_count": 17,
   "metadata": {},
   "outputs": [
    {
     "name": "stdout",
     "output_type": "stream",
     "text": [
      "<class 'int'>\n"
     ]
    }
   ],
   "source": [
    "#we can use operator \"//\" wich return **int** after executed\n",
    "print(type(a//b))"
   ]
  },
  {
   "cell_type": "code",
   "execution_count": 22,
   "metadata": {},
   "outputs": [
    {
     "name": "stdout",
     "output_type": "stream",
     "text": [
      "8\n"
     ]
    }
   ],
   "source": [
    "#Other operator with numbers is ** (power of)\n",
    "a = 2 ** 3\n",
    "print(a)"
   ]
  },
  {
   "cell_type": "code",
   "execution_count": 33,
   "metadata": {
    "scrolled": true
   },
   "outputs": [
    {
     "name": "stdout",
     "output_type": "stream",
     "text": [
      "1\n",
      "1\n",
      "0\n"
     ]
    }
   ],
   "source": [
    "# Modulo \"%\"\n",
    "#this operator is used to determine the reminder after devision\n",
    "print(5 % 4)\n",
    "print(5 % 2)\n",
    "print(6 % 2)"
   ]
  },
  {
   "cell_type": "markdown",
   "metadata": {},
   "source": [
    "# Other examples of operators"
   ]
  },
  {
   "cell_type": "code",
   "execution_count": 34,
   "metadata": {},
   "outputs": [
    {
     "name": "stdout",
     "output_type": "stream",
     "text": [
      "45.0\n",
      "45.0\n",
      "45.0\n",
      "25.0\n",
      "25\n"
     ]
    }
   ],
   "source": [
    "# Guess the output of each answer before you click RUN\n",
    "# Try to write down your answer before and see how you do... keep it mind I made it a little tricky for you :)\n",
    "\n",
    "print((5 + 4) * 10 / 2)\n",
    "\n",
    "print(((5 + 4) * 10) / 2)\n",
    "\n",
    "print((5 + 4) * (10 / 2))\n",
    "\n",
    "print(5 + (4 * 10) / 2)\n",
    "\n",
    "print(5 + 4 * 10 // 2)"
   ]
  },
  {
   "cell_type": "markdown",
   "metadata": {},
   "source": [
    "# operator precedence\n",
    "same as in math. In order of precedence\n",
    "\n",
    "()\n",
    "\n",
    "$**$\n",
    "\n",
    "$* /$\n",
    "\n",
    "$+ -$"
   ]
  },
  {
   "cell_type": "markdown",
   "metadata": {},
   "source": [
    "# Augmented assigning operator\n",
    "for example"
   ]
  },
  {
   "cell_type": "code",
   "execution_count": 46,
   "metadata": {},
   "outputs": [
    {
     "name": "stdout",
     "output_type": "stream",
     "text": [
      "7\n",
      "7\n"
     ]
    }
   ],
   "source": [
    "b = 5\n",
    "c = 5\n",
    "b += 2\n",
    "c = c + 2\n",
    "#this the same as b = b + 2\n",
    "print(b)\n",
    "print(c)"
   ]
  },
  {
   "cell_type": "markdown",
   "metadata": {},
   "source": [
    "# Srings (immutable)\n",
    "\n",
    "Strings in Python are immutable (cannot be changed)\n",
    "\n",
    "We can only reassign.\n",
    "\n",
    "They are just some words and characters or even sentences\n",
    "\n",
    "Strings are accessable by *index* starting from 0"
   ]
  },
  {
   "cell_type": "code",
   "execution_count": 76,
   "metadata": {},
   "outputs": [
    {
     "name": "stdout",
     "output_type": "stream",
     "text": [
      "0 2\n"
     ]
    }
   ],
   "source": [
    "some_string = \"0123456789\"\n",
    "#we can access to each element of string by it idex in [index]. Index started from 0\n",
    "print(some_string[0],some_string[2])"
   ]
  },
  {
   "cell_type": "code",
   "execution_count": 71,
   "metadata": {},
   "outputs": [
    {
     "name": "stdout",
     "output_type": "stream",
     "text": [
      "01\n"
     ]
    }
   ],
   "source": [
    "#we can acces to different elements of string\n",
    "#[start:stop]\n",
    "print(some_string[0:2])"
   ]
  },
  {
   "cell_type": "code",
   "execution_count": 72,
   "metadata": {},
   "outputs": [
    {
     "name": "stdout",
     "output_type": "stream",
     "text": [
      "24\n"
     ]
    }
   ],
   "source": [
    "#we can skip over elements\n",
    "#[start:stop:stepover]\n",
    "print(some_string[2:6:2])"
   ]
  },
  {
   "cell_type": "code",
   "execution_count": 78,
   "metadata": {},
   "outputs": [
    {
     "name": "stdout",
     "output_type": "stream",
     "text": [
      "9\n"
     ]
    }
   ],
   "source": [
    "#we can acces to elements from end using negative index whre -1 is last element in string\n",
    "print(some_string[-1])"
   ]
  },
  {
   "cell_type": "code",
   "execution_count": 80,
   "metadata": {},
   "outputs": [
    {
     "name": "stdout",
     "output_type": "stream",
     "text": [
      "9876543210\n"
     ]
    }
   ],
   "source": [
    "#to print sting in reverse order we can use this\n",
    "print(some_string[::-1])\n",
    "#means from start to end with steover -1"
   ]
  },
  {
   "cell_type": "markdown",
   "metadata": {},
   "source": [
    "All the strings access by index is called **string slicing**\n",
    "\n",
    "\n",
    "______________________________________________________________________________"
   ]
  },
  {
   "cell_type": "markdown",
   "metadata": {},
   "source": [
    "We can also add elemtns to string with simple **$+$** operator\n",
    "\n",
    "**BUT** if we use it - actully we create a new variable"
   ]
  },
  {
   "cell_type": "markdown",
   "metadata": {},
   "source": [
    "We can **add** (**concatination**) one string to another using just $+$ operator"
   ]
  },
  {
   "cell_type": "code",
   "execution_count": 49,
   "metadata": {},
   "outputs": [
    {
     "name": "stdout",
     "output_type": "stream",
     "text": [
      "Vladymyr Mareyev\n"
     ]
    }
   ],
   "source": [
    "#we can use \"+\" sign to add strings together\n",
    "first_name = 'Vladymyr'\n",
    "last_name = 'Mareyev'\n",
    "full_name = first_name + ' ' + last_name\n",
    "print(full_name)"
   ]
  },
  {
   "cell_type": "code",
   "execution_count": 81,
   "metadata": {},
   "outputs": [
    {
     "name": "stdout",
     "output_type": "stream",
     "text": [
      "123456\n"
     ]
    }
   ],
   "source": [
    "some_str = \"12345\"\n",
    "some_str = some_str + '6'\n",
    "print(some_str)"
   ]
  },
  {
   "cell_type": "markdown",
   "metadata": {},
   "source": [
    "We can create so called **long_strings** with triple quotes *'''*"
   ]
  },
  {
   "cell_type": "code",
   "execution_count": 48,
   "metadata": {},
   "outputs": [
    {
     "name": "stdout",
     "output_type": "stream",
     "text": [
      "\n",
      "WOW\n",
      "O O\n",
      " i\n",
      "___\n",
      "\n"
     ]
    }
   ],
   "source": [
    "long_string = '''\n",
    "WOW\n",
    "O O\n",
    " i\n",
    "___\n",
    "'''\n",
    "print(long_string)"
   ]
  },
  {
   "cell_type": "markdown",
   "metadata": {},
   "source": [
    "# Type casting (type conversion)"
   ]
  },
  {
   "cell_type": "code",
   "execution_count": 2,
   "metadata": {},
   "outputs": [
    {
     "name": "stdout",
     "output_type": "stream",
     "text": [
      "<class 'int'>\n",
      "<class 'str'>\n",
      "<class 'int'>\n"
     ]
    }
   ],
   "source": [
    "#it is very easy in Python\n",
    "#just add type before variabe\n",
    "b = 100\n",
    "print(type(b))\n",
    "b = str(b)\n",
    "print(type(b))\n",
    "b = int(b)\n",
    "print(type(b))"
   ]
  },
  {
   "cell_type": "markdown",
   "metadata": {},
   "source": [
    "There are 2 types of conversion:\n",
    "**Implicit** and **Explicit**"
   ]
  },
  {
   "cell_type": "code",
   "execution_count": 3,
   "metadata": {},
   "outputs": [
    {
     "name": "stdout",
     "output_type": "stream",
     "text": [
      "<class 'str'>\n",
      "<class 'int'>\n"
     ]
    }
   ],
   "source": [
    "# Implicit conversion (automatic):\n",
    "a = \"some_string\"\n",
    "print(type(a))\n",
    "a = 6\n",
    "print(type(a))"
   ]
  },
  {
   "cell_type": "markdown",
   "metadata": {},
   "source": [
    "Conversion below is explisit (aka Type casting)"
   ]
  },
  {
   "cell_type": "code",
   "execution_count": 5,
   "metadata": {},
   "outputs": [
    {
     "name": "stdout",
     "output_type": "stream",
     "text": [
      "<class 'str'>\n",
      "<class 'int'>\n"
     ]
    }
   ],
   "source": [
    "# Explicit conversion:\n",
    "a = \"5\"\n",
    "print(type(a))\n",
    "\n",
    "a = int(a)\n",
    "print(type(a))"
   ]
  },
  {
   "cell_type": "markdown",
   "metadata": {},
   "source": [
    "# Escape Sequence\n",
    "Simply add backslash \\"
   ]
  },
  {
   "cell_type": "code",
   "execution_count": 57,
   "metadata": {
    "scrolled": true
   },
   "outputs": [
    {
     "name": "stdout",
     "output_type": "stream",
     "text": [
      "it's \"kind of sunny\"\n"
     ]
    }
   ],
   "source": [
    "## weather = \"it's \"kind of sunny\"\" won't work\n",
    "weather2 = \"it\\'s \\\"kind of sunny\\\"\"\n",
    "print(weather2)\n",
    "# just add \"\\\" before each single/double quotes"
   ]
  },
  {
   "cell_type": "markdown",
   "metadata": {},
   "source": [
    "We can add **tab or new line** to a string with special signs as **\\t** and **\\n**"
   ]
  },
  {
   "cell_type": "code",
   "execution_count": 59,
   "metadata": {},
   "outputs": [
    {
     "name": "stdout",
     "output_type": "stream",
     "text": [
      "\twhat is this?\n",
      "Are you sure?\n"
     ]
    }
   ],
   "source": [
    "string = \"\\twhat is this?\\nAre you sure?\"\n",
    "print(string)"
   ]
  },
  {
   "cell_type": "markdown",
   "metadata": {},
   "source": [
    "# Formatting of strings ( f string)\n",
    "\n",
    "Simply add **f** after *print(f*\n",
    "\n",
    "Variable placeholder is **{}**\n",
    "\n",
    "Or we can use **.format** method\n",
    "\n",
    "See example below"
   ]
  },
  {
   "cell_type": "code",
   "execution_count": 67,
   "metadata": {},
   "outputs": [
    {
     "name": "stdout",
     "output_type": "stream",
     "text": [
      "Hello Inha, you are 26 years old\n",
      "Hello Inha, you are 26 years old\n",
      "Hello Inha, you are 26 years old\n",
      "Hello Inha, you are 26 years old\n"
     ]
    }
   ],
   "source": [
    "name = 'Inha'\n",
    "age = 26\n",
    "\n",
    "print(f'Hello {name}, you are {age} years old')\n",
    "\n",
    "## OR\n",
    "\n",
    "print(\"Hello {}, you are {} years old\".format('Inha', '26'))\n",
    "\n",
    "## OR\n",
    "\n",
    "print(\"Hello {}, you are {} years old\".format(name,age))\n",
    "\n",
    "## OR\n",
    "\n",
    "print(\"Hello {1}, you are {0} years old\".format(age,name))\n"
   ]
  },
  {
   "cell_type": "markdown",
   "metadata": {},
   "source": [
    "## Math function\n",
    "We dont need to know all of them.\n",
    "Just google for one we need"
   ]
  },
  {
   "cell_type": "code",
   "execution_count": 31,
   "metadata": {},
   "outputs": [
    {
     "name": "stdout",
     "output_type": "stream",
     "text": [
      "6\n"
     ]
    }
   ],
   "source": [
    "print(round(5.6))"
   ]
  },
  {
   "cell_type": "code",
   "execution_count": 32,
   "metadata": {
    "scrolled": true
   },
   "outputs": [
    {
     "name": "stdout",
     "output_type": "stream",
     "text": [
      "20\n"
     ]
    }
   ],
   "source": [
    "#Absolute function. return ablosute number( only positive )\n",
    "print(abs(-20))"
   ]
  },
  {
   "cell_type": "markdown",
   "metadata": {},
   "source": [
    "# Variable\n",
    "Its just a some name that have \"assigned value\". Process of **assigning** is also called **binding**."
   ]
  },
  {
   "cell_type": "code",
   "execution_count": 43,
   "metadata": {},
   "outputs": [
    {
     "name": "stdout",
     "output_type": "stream",
     "text": [
      "iq is equal to  190\n"
     ]
    }
   ],
   "source": [
    "iq = 190\n",
    "#iq here is a variable\n",
    "#we can print it as just a number\n",
    "print(\"iq is equal to \",iq)"
   ]
  },
  {
   "cell_type": "markdown",
   "metadata": {},
   "source": [
    "**Common practice** to assign *constant* variable in CAPITAL case"
   ]
  },
  {
   "cell_type": "code",
   "execution_count": 44,
   "metadata": {},
   "outputs": [],
   "source": [
    "# If we do not intend to change varible -  name it in Capital\n",
    "PI = 3.14"
   ]
  },
  {
   "cell_type": "markdown",
   "metadata": {},
   "source": [
    "**Dunder** is two underscore **__**\n",
    "We can create other *dundle variabe* "
   ]
  },
  {
   "cell_type": "markdown",
   "metadata": {},
   "source": [
    "## Expression VS Statement"
   ]
  },
  {
   "cell_type": "code",
   "execution_count": 2,
   "metadata": {},
   "outputs": [],
   "source": [
    "# Stetement is whole line of code that perform some action\n",
    "\n",
    "iq = 100  #this is statement\n",
    "\n",
    "new_iq = iq / 5  #this is statement too. We calculate *iq / 5* and assign its value(value of expression) to variable\n",
    "\n",
    "# but iq / 5 is expression\n",
    "\n"
   ]
  },
  {
   "cell_type": "markdown",
   "metadata": {},
   "source": [
    "  "
   ]
  },
  {
   "cell_type": "markdown",
   "metadata": {},
   "source": [
    "# Build-In Functions or Methods"
   ]
  },
  {
   "cell_type": "markdown",
   "metadata": {},
   "source": [
    "https://docs.python.org/3/library/functions.html\n",
    "\n",
    "https://www.w3schools.com/python/python_ref_string.asp\n",
    "\n",
    "**NOTE**\n",
    "As string is immutable = this means that each method is just creates (returns) new data.\n",
    "\n",
    "Original one data is still the same"
   ]
  },
  {
   "cell_type": "markdown",
   "metadata": {},
   "source": [
    "We can access them via **dot** **(.)**"
   ]
  },
  {
   "cell_type": "markdown",
   "metadata": {},
   "source": [
    "**.upper()** method for the string return uppercase charactres"
   ]
  },
  {
   "cell_type": "code",
   "execution_count": 83,
   "metadata": {},
   "outputs": [
    {
     "name": "stdout",
     "output_type": "stream",
     "text": [
      "LOOK HOW I CAN BECOME AN UPPERCASE!\n"
     ]
    }
   ],
   "source": [
    "whatever = \"look how i can become an uppercase!\"\n",
    "print(whatever.upper())"
   ]
  },
  {
   "cell_type": "markdown",
   "metadata": {},
   "source": [
    "**.replace(old,new,count)** method"
   ]
  },
  {
   "cell_type": "code",
   "execution_count": 85,
   "metadata": {},
   "outputs": [
    {
     "name": "stdout",
     "output_type": "stream",
     "text": [
      "LOOK HOW YOU CAN BECOME AN UPPERCASE!\n"
     ]
    }
   ],
   "source": [
    "whatever = \"look how i can become an uppercase!\"\n",
    "print(whatever.replace('i', 'you').upper())"
   ]
  },
  {
   "cell_type": "markdown",
   "metadata": {},
   "source": [
    "**split()** method for string to devide string into list of (words or sentences)"
   ]
  },
  {
   "cell_type": "code",
   "execution_count": 7,
   "metadata": {
    "scrolled": true
   },
   "outputs": [
    {
     "name": "stdout",
     "output_type": "stream",
     "text": [
      "18\n"
     ]
    }
   ],
   "source": [
    "## lets create some string\n",
    "sent = \"how are you today?\"\n",
    "#print number of characters in string\n",
    "print(len(sent))"
   ]
  },
  {
   "cell_type": "code",
   "execution_count": 8,
   "metadata": {},
   "outputs": [
    {
     "name": "stdout",
     "output_type": "stream",
     "text": [
      "4\n",
      "['how', 'are', 'you', 'today?']\n"
     ]
    }
   ],
   "source": [
    "## use .split() method to devide string in words. Split will return list of words\n",
    "words = sent.split()\n",
    "#inside the brackets in split() we can idicate any separator we need. Space is by default\n",
    "print(len(words))\n",
    "print(words)"
   ]
  },
  {
   "cell_type": "markdown",
   "metadata": {},
   "source": [
    "# .join(iterable)\n",
    "Is a string method that joins given string with all ementes of iterabel object"
   ]
  },
  {
   "cell_type": "code",
   "execution_count": 9,
   "metadata": {},
   "outputs": [
    {
     "name": "stdout",
     "output_type": "stream",
     "text": [
      "does not metter what something else ok, and else\n"
     ]
    }
   ],
   "source": [
    "given_list = [\n",
    "    'does not metter what',\n",
    "    'something else',\n",
    "    'ok, and else'\n",
    "]\n",
    "print(' '.join(given_list))"
   ]
  },
  {
   "cell_type": "code",
   "execution_count": 10,
   "metadata": {},
   "outputs": [
    {
     "name": "stdout",
     "output_type": "stream",
     "text": [
      "does not metter what_something else_ok, and else\n"
     ]
    }
   ],
   "source": [
    "# Separator is binded in the beginning\n",
    "print('_'.join(given_list))"
   ]
  },
  {
   "cell_type": "markdown",
   "metadata": {},
   "source": [
    "# Data structures\n",
    "It is containter for data\n",
    "\n",
    "# Following data structures are available in Python:\n",
    "List\n",
    "\n",
    "Set\n",
    "\n",
    "Dictionary. This is a key-value pair. Same as hashtable in C\n",
    "\n",
    "Tuple"
   ]
  },
  {
   "cell_type": "markdown",
   "metadata": {},
   "source": [
    "# List []\n",
    "Same as arrays in C\n",
    "\n",
    "list is an ordered sequence of objects that can be of any type."
   ]
  },
  {
   "cell_type": "markdown",
   "metadata": {},
   "source": [
    "## Difference beteween list and tuple\n",
    "**tuple** is <u>immutable</u> data type (can not be changed)"
   ]
  },
  {
   "cell_type": "code",
   "execution_count": 4,
   "metadata": {},
   "outputs": [
    {
     "name": "stdout",
     "output_type": "stream",
     "text": [
      "[1, 2, 3] (1, 2, 3)\n"
     ]
    }
   ],
   "source": [
    "i = [1,2,3]\n",
    "#tuple - not mutable\n",
    "l = (1,2,3)\n",
    "print(i,l)"
   ]
  },
  {
   "cell_type": "code",
   "execution_count": 5,
   "metadata": {},
   "outputs": [
    {
     "name": "stdout",
     "output_type": "stream",
     "text": [
      "[0, 2, 3]\n"
     ]
    }
   ],
   "source": [
    "i[0] = 0\n",
    "print(i)"
   ]
  },
  {
   "cell_type": "code",
   "execution_count": 6,
   "metadata": {},
   "outputs": [
    {
     "ename": "TypeError",
     "evalue": "'tuple' object does not support item assignment",
     "output_type": "error",
     "traceback": [
      "\u001b[1;31m---------------------------------------------\u001b[0m",
      "\u001b[1;31mTypeError\u001b[0m   Traceback (most recent call last)",
      "\u001b[1;32m<ipython-input-6-d352ed6b7e5e>\u001b[0m in \u001b[0;36m<module>\u001b[1;34m\u001b[0m\n\u001b[0;32m      1\u001b[0m \u001b[1;31m# As tuple is immutable data type I'll get at error here:\u001b[0m\u001b[1;33m\u001b[0m\u001b[1;33m\u001b[0m\u001b[1;33m\u001b[0m\u001b[0m\n\u001b[1;32m----> 2\u001b[1;33m \u001b[0ml\u001b[0m\u001b[1;33m[\u001b[0m\u001b[1;36m0\u001b[0m\u001b[1;33m]\u001b[0m \u001b[1;33m=\u001b[0m \u001b[1;36m0\u001b[0m\u001b[1;33m\u001b[0m\u001b[1;33m\u001b[0m\u001b[0m\n\u001b[0m",
      "\u001b[1;31mTypeError\u001b[0m: 'tuple' object does not support item assignment"
     ]
    }
   ],
   "source": [
    "# As tuple is immutable data type I'll get at error here:\n",
    "l[0] = 0"
   ]
  },
  {
   "cell_type": "markdown",
   "metadata": {},
   "source": [
    "# List slicing\n",
    "\n",
    "Same idea as with the strings.\n",
    "\n",
    "But lists are mutable. We can change different elements of list"
   ]
  },
  {
   "cell_type": "code",
   "execution_count": 30,
   "metadata": {},
   "outputs": [
    {
     "name": "stdout",
     "output_type": "stream",
     "text": [
      "['laptop', 'toys']\n",
      "['laptop', 'toys', 'sunglasses', 'grapes']\n",
      "['gum', 'toys', 'sunglasses', 'grapes']\n",
      "['gum', 'toys', 'sunglasses', 'grapes']\n"
     ]
    }
   ],
   "source": [
    "#Create some list of string\n",
    "\n",
    "amazon_cart = [\n",
    "    'notebook',\n",
    "    'toys',\n",
    "    'sunglasses',\n",
    "    'grapes'\n",
    "]\n",
    "\n",
    "amazon_cart[0] = 'laptop'\n",
    "print(amazon_cart[0:2])\n",
    "\n",
    "#With list slicing we create a new list but not chage it\n",
    "\n",
    "print(amazon_cart)\n",
    "\n",
    "#As it see from output there is no change in initial list\n",
    "\n",
    "#BUT.....\n",
    "newcart = amazon_cart\n",
    "newcart[0] = 'gum'\n",
    "print(newcart)\n",
    "print(amazon_cart)\n",
    "#Output the same.\n"
   ]
  },
  {
   "cell_type": "markdown",
   "metadata": {},
   "source": [
    "As we see from above example the output is the same. \n",
    "This is because bu '=' opertator we just say to computer that address of newcart is the same as amazon_cart\n",
    "\n",
    "Same idea as pointers in C"
   ]
  },
  {
   "cell_type": "code",
   "execution_count": 29,
   "metadata": {},
   "outputs": [
    {
     "name": "stdout",
     "output_type": "stream",
     "text": [
      "['gum', 'toys', 'sunglasses', 'grapes']\n",
      "['gum', 'toys', 'sunglasses', 'grapes']\n",
      "['pen', 'toys', 'sunglasses', 'grapes']\n",
      "['gum', 'toys', 'sunglasses', 'grapes']\n"
     ]
    }
   ],
   "source": [
    "#now let's see the difference with following example:\n",
    "\n",
    "amazon_cart = [\n",
    "    'notebook',\n",
    "    'toys',\n",
    "    'sunglasses',\n",
    "    'grapes'\n",
    "]\n",
    "\n",
    "newcart = amazon_cart\n",
    "newcart[0] = 'gum'\n",
    "print(newcart)\n",
    "print(amazon_cart)\n",
    "#OR..\n",
    "#as we know that with slicing we create a copy of orginal list, we can make the following:\n",
    "newcart2 = amazon_cart[:]\n",
    "#we created the full copy of initial list with slicing\n",
    "newcart2[0] = 'pen'\n",
    "print(newcart2)\n",
    "print(amazon_cart)"
   ]
  },
  {
   "cell_type": "markdown",
   "metadata": {},
   "source": [
    "# We can add elements to list with simple $+$ operator (concatenate)"
   ]
  },
  {
   "cell_type": "code",
   "execution_count": 18,
   "metadata": {},
   "outputs": [
    {
     "name": "stdout",
     "output_type": "stream",
     "text": [
      "['book', 'pen']\n",
      "['book', 'pen', 'pencil']\n"
     ]
    }
   ],
   "source": [
    "some_list = [\n",
    "    'book',\n",
    "    'pen'\n",
    "]\n",
    "\n",
    "new_list = some_list + ['pencil']\n",
    "\n",
    "#NOTE.. that by concatinating the list we create new one as well. Not modifing\n",
    "\n",
    "print(some_list)\n",
    "print(new_list)"
   ]
  },
  {
   "cell_type": "markdown",
   "metadata": {},
   "source": [
    "# Matrix\n",
    "Multidimensional arrays (lists)"
   ]
  },
  {
   "cell_type": "code",
   "execution_count": 21,
   "metadata": {},
   "outputs": [
    {
     "name": "stdout",
     "output_type": "stream",
     "text": [
      "2\n"
     ]
    }
   ],
   "source": [
    "#Matrix\n",
    "matrix = [\n",
    "    [1,2,3],\n",
    "    [2,4,6],\n",
    "    [3,6,9]\n",
    "]\n",
    "#To access some element in list\n",
    "print(matrix[0][1])"
   ]
  },
  {
   "cell_type": "markdown",
   "metadata": {},
   "source": [
    "# List methods"
   ]
  },
  {
   "cell_type": "markdown",
   "metadata": {},
   "source": [
    "# Adding"
   ]
  },
  {
   "cell_type": "markdown",
   "metadata": {},
   "source": [
    "**Append**"
   ]
  },
  {
   "cell_type": "code",
   "execution_count": 9,
   "metadata": {},
   "outputs": [
    {
     "name": "stdout",
     "output_type": "stream",
     "text": [
      "None\n"
     ]
    }
   ],
   "source": [
    "#Adding\n",
    "basket = [1,2,3,4]\n",
    "new_list = basket.append(100)\n",
    "print(new_list)"
   ]
  },
  {
   "cell_type": "markdown",
   "metadata": {},
   "source": [
    "As you see in the example above.\n",
    "\n",
    "Append method is **make change to the list <font color=red>itself</font>**. But not copying it.\n",
    "\n",
    "That is why we have None as output\n"
   ]
  },
  {
   "cell_type": "code",
   "execution_count": 10,
   "metadata": {},
   "outputs": [
    {
     "name": "stdout",
     "output_type": "stream",
     "text": [
      "[1, 2, 3, 4, 100]\n"
     ]
    }
   ],
   "source": [
    "print(basket)"
   ]
  },
  {
   "cell_type": "markdown",
   "metadata": {},
   "source": [
    "**Insert**\n",
    "\n",
    "Index and value as argument. Value to be inserted before specified index"
   ]
  },
  {
   "cell_type": "code",
   "execution_count": 12,
   "metadata": {},
   "outputs": [
    {
     "name": "stdout",
     "output_type": "stream",
     "text": [
      "[1, 2, 6, 3, 4, 100]\n",
      "[6, 1, 2, 6, 3, 4, 100]\n"
     ]
    }
   ],
   "source": [
    "print(basket)\n",
    "basket.insert(0,6)\n",
    "print(basket)"
   ]
  },
  {
   "cell_type": "markdown",
   "metadata": {},
   "source": [
    "**Extend**\n",
    "\n",
    "Addsone more *list* to existion one\n",
    "\n",
    "Takes *iterable* as argument"
   ]
  },
  {
   "cell_type": "code",
   "execution_count": 26,
   "metadata": {},
   "outputs": [
    {
     "name": "stdout",
     "output_type": "stream",
     "text": [
      "[1, 3, 4, 100, 101, 102, 101, 101, 102, 101, 101, 102]\n"
     ]
    }
   ],
   "source": [
    "basket.extend((101,102))   # any iterable like list or tuple\n",
    "print(basket)"
   ]
  },
  {
   "cell_type": "markdown",
   "metadata": {},
   "source": [
    "# Remove"
   ]
  },
  {
   "cell_type": "markdown",
   "metadata": {},
   "source": [
    "**Pop(index)**\n",
    "\n",
    "Removes that at the end of the list if *index* is not specified\n",
    "\n",
    "NOTE>>> that pop method returns the value. Not just modifies the list!!!"
   ]
  },
  {
   "cell_type": "code",
   "execution_count": 27,
   "metadata": {},
   "outputs": [
    {
     "name": "stdout",
     "output_type": "stream",
     "text": [
      "[3, 4, 100, 101, 102, 101, 101, 102, 101, 101, 102]\n"
     ]
    }
   ],
   "source": [
    "basket.pop(0)\n",
    "print(basket)"
   ]
  },
  {
   "cell_type": "code",
   "execution_count": 28,
   "metadata": {},
   "outputs": [
    {
     "data": {
      "text/plain": [
       "102"
      ]
     },
     "execution_count": 28,
     "metadata": {},
     "output_type": "execute_result"
    }
   ],
   "source": [
    "basket.pop()   #Note that method returns the value"
   ]
  },
  {
   "cell_type": "markdown",
   "metadata": {},
   "source": [
    "**Remove(value)**\n",
    "\n",
    "Just modifies the list. Doesn't return any value"
   ]
  },
  {
   "cell_type": "code",
   "execution_count": 29,
   "metadata": {},
   "outputs": [
    {
     "name": "stdout",
     "output_type": "stream",
     "text": [
      "[4, 100, 101, 102, 101, 101, 102, 101, 101]\n"
     ]
    }
   ],
   "source": [
    "basket.remove(3)\n",
    "print(basket)"
   ]
  },
  {
   "cell_type": "markdown",
   "metadata": {},
   "source": [
    "**Clear()**\n",
    "\n",
    "Removes all elements in the list"
   ]
  },
  {
   "cell_type": "code",
   "execution_count": 30,
   "metadata": {},
   "outputs": [
    {
     "name": "stdout",
     "output_type": "stream",
     "text": [
      "[]\n"
     ]
    }
   ],
   "source": [
    "basket.clear()\n",
    "print(basket)"
   ]
  },
  {
   "cell_type": "markdown",
   "metadata": {},
   "source": [
    "# Index\n",
    "\n",
    "**list.index(*value*)**\n",
    "\n",
    "Returns index where specific value is\n",
    "\n",
    "Optional parameters are start and end index\n",
    "\n",
    "list.index(*value, start_index, end_index*)"
   ]
  },
  {
   "cell_type": "code",
   "execution_count": 31,
   "metadata": {},
   "outputs": [
    {
     "name": "stdout",
     "output_type": "stream",
     "text": [
      "1\n",
      "2\n"
     ]
    }
   ],
   "source": [
    "shop_cart = ['soap', 'milk', 'water', 'soap']\n",
    "print(shop_cart.index('milk',0,2))\n",
    "print(shop_cart.index('water'))"
   ]
  },
  {
   "cell_type": "markdown",
   "metadata": {},
   "source": [
    "# Count\n",
    "\n",
    "list.count(value)\n",
    "\n",
    "returns number of times element counter in list"
   ]
  },
  {
   "cell_type": "code",
   "execution_count": 51,
   "metadata": {},
   "outputs": [
    {
     "name": "stdout",
     "output_type": "stream",
     "text": [
      "2\n"
     ]
    }
   ],
   "source": [
    "print(shop_cart.count('soap'))"
   ]
  },
  {
   "cell_type": "markdown",
   "metadata": {},
   "source": [
    "# Sort\n",
    "\n",
    "Sort list"
   ]
  },
  {
   "cell_type": "code",
   "execution_count": 55,
   "metadata": {},
   "outputs": [
    {
     "name": "stdout",
     "output_type": "stream",
     "text": [
      "None\n",
      "['milk', 'soap', 'soap', 'water']\n"
     ]
    }
   ],
   "source": [
    "print(shop_cart.sort())\n",
    "print(shop_cart)"
   ]
  },
  {
   "cell_type": "markdown",
   "metadata": {},
   "source": [
    "We can use function *sorted*\n",
    "\n",
    "Difference between method and function:\n",
    "\n",
    "Function will return copy of a list in sorted order, while method will only modify existing one"
   ]
  },
  {
   "cell_type": "code",
   "execution_count": 57,
   "metadata": {},
   "outputs": [
    {
     "name": "stdout",
     "output_type": "stream",
     "text": [
      "['milk', 'eggs', 'melon', 'chocalate']\n",
      "['chocalate', 'eggs', 'melon', 'milk']\n"
     ]
    }
   ],
   "source": [
    "new_shop_cart = ['milk', 'eggs', 'melon', 'chocalate']\n",
    "print(new_shop_cart)\n",
    "print(sorted(new_shop_cart))"
   ]
  },
  {
   "cell_type": "markdown",
   "metadata": {},
   "source": [
    "# Reverse\n",
    "\n",
    "It reverse all element in list <font color=red>by index</font> **NOTE** it is not sort reverse!!!"
   ]
  },
  {
   "cell_type": "code",
   "execution_count": 58,
   "metadata": {},
   "outputs": [
    {
     "name": "stdout",
     "output_type": "stream",
     "text": [
      "['chocalate', 'melon', 'eggs', 'milk']\n"
     ]
    }
   ],
   "source": [
    "new_shop_cart.reverse()\n",
    "print(new_shop_cart)"
   ]
  },
  {
   "cell_type": "markdown",
   "metadata": {},
   "source": [
    "We can reverse list as well with slicing:"
   ]
  },
  {
   "cell_type": "code",
   "execution_count": 63,
   "metadata": {},
   "outputs": [
    {
     "name": "stdout",
     "output_type": "stream",
     "text": [
      "['milk', 'melon', 'eggs', 'chocalate']\n"
     ]
    }
   ],
   "source": [
    "print(new_shop_cart[::-1])"
   ]
  },
  {
   "cell_type": "markdown",
   "metadata": {},
   "source": [
    "But with slicing we are not modify the list. We just copy it. So original list is stays tge same"
   ]
  },
  {
   "cell_type": "code",
   "execution_count": 64,
   "metadata": {},
   "outputs": [
    {
     "name": "stdout",
     "output_type": "stream",
     "text": [
      "['chocalate', 'eggs', 'melon', 'milk']\n"
     ]
    }
   ],
   "source": [
    "print(new_shop_cart)"
   ]
  },
  {
   "cell_type": "code",
   "execution_count": null,
   "metadata": {},
   "outputs": [],
   "source": []
  },
  {
   "cell_type": "markdown",
   "metadata": {},
   "source": [
    "# List unpacking"
   ]
  },
  {
   "cell_type": "markdown",
   "metadata": {},
   "source": [
    "We can assign variable in list"
   ]
  },
  {
   "cell_type": "code",
   "execution_count": 75,
   "metadata": {},
   "outputs": [
    {
     "name": "stdout",
     "output_type": "stream",
     "text": [
      "1\n",
      "2\n",
      "3\n",
      "[4, 5, 6]\n",
      "7\n"
     ]
    }
   ],
   "source": [
    "a,b,c, *other, d = [1,2,3,4,5,6,7]\n",
    "print(a)\n",
    "print(b)\n",
    "print(c)\n",
    "print(other)\n",
    "print(d)"
   ]
  },
  {
   "cell_type": "markdown",
   "metadata": {},
   "source": [
    "Now we can edit list with this varables"
   ]
  },
  {
   "cell_type": "code",
   "execution_count": 76,
   "metadata": {},
   "outputs": [
    {
     "name": "stdout",
     "output_type": "stream",
     "text": [
      "56\n"
     ]
    }
   ],
   "source": [
    "a = 56\n",
    "print(a)"
   ]
  },
  {
   "cell_type": "code",
   "execution_count": null,
   "metadata": {},
   "outputs": [],
   "source": []
  },
  {
   "cell_type": "markdown",
   "metadata": {},
   "source": [
    "# Range is function\n",
    "\n",
    "It returns special class named *range*"
   ]
  },
  {
   "cell_type": "code",
   "execution_count": 32,
   "metadata": {},
   "outputs": [
    {
     "name": "stdout",
     "output_type": "stream",
     "text": [
      "range(1, 100)\n",
      "<class 'range'>\n",
      "[1, 2, 3, 4, 5, 6, 7, 8, 9, 10, 11, 12, 13, 14, 15, 16, 17, 18, 19, 20, 21, 22, 23, 24, 25, 26, 27, 28, 29, 30, 31, 32, 33, 34, 35, 36, 37, 38, 39, 40, 41, 42, 43, 44, 45, 46, 47, 48, 49, 50, 51, 52, 53, 54, 55, 56, 57, 58, 59, 60, 61, 62, 63, 64, 65, 66, 67, 68, 69, 70, 71, 72, 73, 74, 75, 76, 77, 78, 79, 80, 81, 82, 83, 84, 85, 86, 87, 88, 89, 90, 91, 92, 93, 94, 95, 96, 97, 98, 99]\n"
     ]
    }
   ],
   "source": [
    "print(range(1,100))\n",
    "print(type(range(1,100)))\n",
    "print(list(range(1,100)))"
   ]
  },
  {
   "cell_type": "markdown",
   "metadata": {},
   "source": [
    "# _______________new chapter__________________\n",
    "---"
   ]
  },
  {
   "cell_type": "markdown",
   "metadata": {},
   "source": [
    "# Key words\n",
    "\n",
    "Python has a set of keywords that are reserved words that cannot be used as variable names, function names, or any other identifiers like *in, True, as, break* an so on\n",
    "\n",
    "https://www.w3schools.com/python/python_ref_keywords.asp"
   ]
  },
  {
   "cell_type": "code",
   "execution_count": null,
   "metadata": {},
   "outputs": [],
   "source": []
  },
  {
   "cell_type": "markdown",
   "metadata": {},
   "source": [
    "# NONE type\n",
    "It is a special data types"
   ]
  },
  {
   "cell_type": "code",
   "execution_count": null,
   "metadata": {},
   "outputs": [],
   "source": []
  },
  {
   "cell_type": "markdown",
   "metadata": {},
   "source": [
    "# Dictionary\n",
    "\n",
    "Tshis data structre in Python with **unordered** key - value pairs.\n",
    "\n",
    "dictionary = {}\n",
    "\n",
    "In conrariry to *list* data structres, *dictionary* is **allocate memory for its members <font color=red>not in a consecutive clusers</font>**.\n",
    "\n",
    "This is simular data structure as hash table in C\n",
    "\n",
    "Dictionary value can be different data types"
   ]
  },
  {
   "cell_type": "code",
   "execution_count": 79,
   "metadata": {},
   "outputs": [
    {
     "name": "stdout",
     "output_type": "stream",
     "text": [
      "1\n",
      "True\n"
     ]
    }
   ],
   "source": [
    "dictionary = {\n",
    "    'a' : 1,\n",
    "    'b' : 2,\n",
    "    'c' : True,\n",
    "    'd' : [1,2,3]\n",
    "}\n",
    "\n",
    "print(dictionary['a'])\n",
    "print(dictionary['c'])"
   ]
  },
  {
   "cell_type": "markdown",
   "metadata": {},
   "source": [
    "Same as we can include list inside dictionary, we can do it vice versa"
   ]
  },
  {
   "cell_type": "code",
   "execution_count": 83,
   "metadata": {},
   "outputs": [
    {
     "name": "stdout",
     "output_type": "stream",
     "text": [
      "[{'a': 2, 'b': 3}, 'some_string', ['inside', 'list']]\n"
     ]
    }
   ],
   "source": [
    "my_list = [\n",
    "    {\n",
    "        'a' : 2,\n",
    "        'b' : 3\n",
    "    },\n",
    "    'some_string',\n",
    "    ['inside', 'list']\n",
    "]\n",
    "print(my_list)"
   ]
  },
  {
   "cell_type": "markdown",
   "metadata": {},
   "source": [
    "# When to use list and when - dictionary"
   ]
  },
  {
   "cell_type": "markdown",
   "metadata": {},
   "source": [
    "Note that dictionary is not ordered data\n",
    "\n",
    "Dictionary can hold more information. More specific information\n",
    "\n"
   ]
  },
  {
   "cell_type": "markdown",
   "metadata": {},
   "source": [
    "# Dictionary key"
   ]
  },
  {
   "cell_type": "markdown",
   "metadata": {},
   "source": [
    "Dictionary **key must be of immutable data type**\n",
    "\n",
    "Key has to be unique\n",
    "\n",
    "If we write value with an existing key, previous value will be overrited\n",
    "\n"
   ]
  },
  {
   "cell_type": "code",
   "execution_count": 37,
   "metadata": {},
   "outputs": [
    {
     "data": {
      "text/plain": [
       "{123: 'a', True: 'b', 'string': 'c', ('t', 'u', 'p', 'l', 'e'): 'd'}"
      ]
     },
     "execution_count": 37,
     "metadata": {},
     "output_type": "execute_result"
    }
   ],
   "source": [
    "#dictionary keys\n",
    "some_dict = {\n",
    "    123 : 'a',\n",
    "    True : 'b',\n",
    "    'string' : 'c',\n",
    "    ('t','u','p','l','e') : 'd'\n",
    "}\n",
    "#list can not be a key as it mutable\n",
    "some_dict"
   ]
  },
  {
   "cell_type": "code",
   "execution_count": null,
   "metadata": {},
   "outputs": [],
   "source": []
  },
  {
   "cell_type": "markdown",
   "metadata": {},
   "source": [
    "# Dictionary methods"
   ]
  },
  {
   "cell_type": "markdown",
   "metadata": {},
   "source": [
    "*.get* method is used to avoid error or to override error with some value\n",
    "\n",
    "It means instead of calling value like *dict['key']* we use *get* method to avoid KeyError if such *key* doesnt exist\n",
    "\n",
    "This method returns eather *None* or value specified"
   ]
  },
  {
   "cell_type": "code",
   "execution_count": 40,
   "metadata": {},
   "outputs": [
    {
     "name": "stdout",
     "output_type": "stream",
     "text": [
      "None\n",
      "20\n"
     ]
    },
    {
     "ename": "KeyError",
     "evalue": "'age'",
     "output_type": "error",
     "traceback": [
      "\u001b[1;31m---------------------------------------------\u001b[0m",
      "\u001b[1;31mKeyError\u001b[0m    Traceback (most recent call last)",
      "\u001b[1;32m<ipython-input-40-fad7e80c0842>\u001b[0m in \u001b[0;36m<module>\u001b[1;34m\u001b[0m\n\u001b[0;32m      7\u001b[0m \u001b[0mprint\u001b[0m\u001b[1;33m(\u001b[0m\u001b[0muser\u001b[0m\u001b[1;33m.\u001b[0m\u001b[0mget\u001b[0m\u001b[1;33m(\u001b[0m\u001b[1;34m'age'\u001b[0m\u001b[1;33m,\u001b[0m\u001b[1;36m20\u001b[0m\u001b[1;33m)\u001b[0m\u001b[1;33m)\u001b[0m\u001b[1;33m\u001b[0m\u001b[1;33m\u001b[0m\u001b[0m\n\u001b[0;32m      8\u001b[0m \u001b[1;33m\u001b[0m\u001b[0m\n\u001b[1;32m----> 9\u001b[1;33m \u001b[0mprint\u001b[0m\u001b[1;33m(\u001b[0m\u001b[0muser\u001b[0m\u001b[1;33m[\u001b[0m\u001b[1;34m'age'\u001b[0m\u001b[1;33m]\u001b[0m\u001b[1;33m)\u001b[0m\u001b[1;33m\u001b[0m\u001b[1;33m\u001b[0m\u001b[0m\n\u001b[0m",
      "\u001b[1;31mKeyError\u001b[0m: 'age'"
     ]
    }
   ],
   "source": [
    "user = {\n",
    "    'basket': [1,2,3],\n",
    "    'greet': 'hello'\n",
    "}\n",
    "\n",
    "print(user.get('age'))\n",
    "print(user.get('age',20))\n",
    "\n",
    "print(user['age'])"
   ]
  },
  {
   "cell_type": "code",
   "execution_count": 41,
   "metadata": {},
   "outputs": [
    {
     "name": "stdout",
     "output_type": "stream",
     "text": [
      "{'basket': [1, 2, 3], 'greet': 'hello'}\n"
     ]
    }
   ],
   "source": [
    "print(user)"
   ]
  },
  {
   "cell_type": "markdown",
   "metadata": {},
   "source": [
    "**dict function**"
   ]
  },
  {
   "cell_type": "code",
   "execution_count": 124,
   "metadata": {},
   "outputs": [
    {
     "name": "stdout",
     "output_type": "stream",
     "text": [
      "{'name': 'John', 'lastname': 'Malcovich'}\n"
     ]
    }
   ],
   "source": [
    "user2 = dict(name='John',lastname='Malcovich')\n",
    "print(user2)"
   ]
  },
  {
   "cell_type": "markdown",
   "metadata": {},
   "source": [
    "We can change dictionary values with *.update* method"
   ]
  },
  {
   "cell_type": "code",
   "execution_count": 125,
   "metadata": {},
   "outputs": [
    {
     "name": "stdout",
     "output_type": "stream",
     "text": [
      "{'basket': 'updated value', 'greet': 'hello'}\n"
     ]
    }
   ],
   "source": [
    "user.update({'basket': 'updated value'})\n",
    "print(user)"
   ]
  },
  {
   "cell_type": "markdown",
   "metadata": {},
   "source": [
    "# Tuple data type\n",
    "\n",
    "It is immutable list\n",
    "\n",
    "It's <font color=red>faster</font> then list"
   ]
  },
  {
   "cell_type": "code",
   "execution_count": 108,
   "metadata": {},
   "outputs": [
    {
     "name": "stdout",
     "output_type": "stream",
     "text": [
      "3\n"
     ]
    }
   ],
   "source": [
    "my_tuple = (1,2,3,4,5,5,5)\n",
    "print(my_tuple[2])\n",
    "\n",
    "# but we can not change elements of tuple\n"
   ]
  },
  {
   "cell_type": "markdown",
   "metadata": {},
   "source": [
    "We can slice tuple. After slicing - copy of tuple is created. Not modified"
   ]
  },
  {
   "cell_type": "code",
   "execution_count": 104,
   "metadata": {},
   "outputs": [
    {
     "name": "stdout",
     "output_type": "stream",
     "text": [
      "(2,)\n"
     ]
    }
   ],
   "source": [
    "new_tuple = my_tuple[1:2]\n",
    "print(new_tuple)"
   ]
  },
  {
   "cell_type": "markdown",
   "metadata": {},
   "source": [
    "# Only 2 methods for tuple\n",
    "\n",
    "Index\n",
    "count"
   ]
  },
  {
   "cell_type": "markdown",
   "metadata": {},
   "source": [
    "Count is count how many times value appears in a tuple.\n",
    "\n",
    "As argument it takes *value*"
   ]
  },
  {
   "cell_type": "code",
   "execution_count": 110,
   "metadata": {},
   "outputs": [
    {
     "name": "stdout",
     "output_type": "stream",
     "text": [
      "1\n",
      "3\n"
     ]
    }
   ],
   "source": [
    "print(my_tuple.count(2))\n",
    "print(my_tuple.count(5))"
   ]
  },
  {
   "cell_type": "markdown",
   "metadata": {},
   "source": [
    "*index* returns index of element which values is entered as argument"
   ]
  },
  {
   "cell_type": "code",
   "execution_count": 112,
   "metadata": {},
   "outputs": [
    {
     "name": "stdout",
     "output_type": "stream",
     "text": [
      "0\n"
     ]
    }
   ],
   "source": [
    "print(my_tuple.index(1))"
   ]
  },
  {
   "cell_type": "markdown",
   "metadata": {},
   "source": [
    "We can use *len* with tuple as well"
   ]
  },
  {
   "cell_type": "code",
   "execution_count": 113,
   "metadata": {},
   "outputs": [
    {
     "name": "stdout",
     "output_type": "stream",
     "text": [
      "7\n"
     ]
    }
   ],
   "source": [
    "print(len(my_tuple))"
   ]
  },
  {
   "cell_type": "code",
   "execution_count": null,
   "metadata": {},
   "outputs": [],
   "source": []
  },
  {
   "cell_type": "markdown",
   "metadata": {},
   "source": [
    "# Set data type\n",
    "\n",
    "Set is unordered collection unique objects\n"
   ]
  },
  {
   "cell_type": "code",
   "execution_count": 42,
   "metadata": {},
   "outputs": [
    {
     "name": "stdout",
     "output_type": "stream",
     "text": [
      "{1, 2, 3, 4, 5}\n",
      "{1, 2, 3, 4, 5, 100}\n"
     ]
    }
   ],
   "source": [
    "my_set = {1,2,3,4,5,5}\n",
    "print(my_set)\n",
    "my_set.add(100)\n",
    "my_set.add(2)\n",
    "print(my_set)"
   ]
  },
  {
   "cell_type": "markdown",
   "metadata": {},
   "source": [
    "As it see from the example above:\n",
    "\n",
    "we can not add object that is already in set\n",
    "\n",
    "There is no order,\n",
    "\n",
    "All objects are in different location of memory\n",
    "\n",
    "We can not access it by index"
   ]
  },
  {
   "cell_type": "markdown",
   "metadata": {},
   "source": [
    "We can copy list,tuple and set with *.copy* method"
   ]
  },
  {
   "cell_type": "code",
   "execution_count": 43,
   "metadata": {},
   "outputs": [
    {
     "name": "stdout",
     "output_type": "stream",
     "text": [
      "{1, 2, 3, 4, 5, 100}\n"
     ]
    }
   ],
   "source": [
    "new_set = my_set.copy()\n",
    "print(new_set)"
   ]
  },
  {
   "cell_type": "code",
   "execution_count": 46,
   "metadata": {},
   "outputs": [
    {
     "ename": "TypeError",
     "evalue": "'set' object is not subscriptable",
     "output_type": "error",
     "traceback": [
      "\u001b[1;31m---------------------------------------------\u001b[0m",
      "\u001b[1;31mTypeError\u001b[0m   Traceback (most recent call last)",
      "\u001b[1;32m<ipython-input-46-7eed391421e7>\u001b[0m in \u001b[0;36m<module>\u001b[1;34m\u001b[0m\n\u001b[1;32m----> 1\u001b[1;33m \u001b[0mnew_set\u001b[0m\u001b[1;33m[\u001b[0m\u001b[1;36m2\u001b[0m\u001b[1;33m]\u001b[0m   \u001b[1;31m# will raise error as we can not access set by index\u001b[0m\u001b[1;33m\u001b[0m\u001b[1;33m\u001b[0m\u001b[0m\n\u001b[0m",
      "\u001b[1;31mTypeError\u001b[0m: 'set' object is not subscriptable"
     ]
    }
   ],
   "source": [
    "new_set[2]   # will raise error as we can not access set by index"
   ]
  },
  {
   "cell_type": "markdown",
   "metadata": {},
   "source": [
    "# Set methods"
   ]
  },
  {
   "cell_type": "markdown",
   "metadata": {},
   "source": [
    "Difference"
   ]
  },
  {
   "cell_type": "code",
   "execution_count": 47,
   "metadata": {},
   "outputs": [
    {
     "name": "stdout",
     "output_type": "stream",
     "text": [
      "{1, 2, 3, 4, 5}\n"
     ]
    }
   ],
   "source": [
    "some_set1 = {1,2,3,4,5,6,7}\n",
    "some_set2 = {6,7,8,9,10,11}\n",
    "\n",
    "print(some_set1.difference(some_set2))"
   ]
  },
  {
   "cell_type": "markdown",
   "metadata": {},
   "source": [
    "Discard\n",
    "\n",
    "Discards *value* which is given as argument"
   ]
  },
  {
   "cell_type": "code",
   "execution_count": 48,
   "metadata": {},
   "outputs": [
    {
     "name": "stdout",
     "output_type": "stream",
     "text": [
      "{1, 2, 3, 5, 6, 7}\n"
     ]
    }
   ],
   "source": [
    "some_set1.discard(4)\n",
    "print(some_set1)"
   ]
  },
  {
   "cell_type": "markdown",
   "metadata": {},
   "source": [
    "Intersection\n",
    "\n",
    "Returns common elements in 2 given sets"
   ]
  },
  {
   "cell_type": "code",
   "execution_count": 130,
   "metadata": {},
   "outputs": [
    {
     "name": "stdout",
     "output_type": "stream",
     "text": [
      "{6, 7}\n"
     ]
    }
   ],
   "source": [
    "print(some_set1.intersection(some_set2))"
   ]
  },
  {
   "cell_type": "markdown",
   "metadata": {},
   "source": [
    "Union\n",
    "\n",
    "Joint together 2 sets. Takes another set as argument"
   ]
  },
  {
   "cell_type": "code",
   "execution_count": 132,
   "metadata": {},
   "outputs": [
    {
     "name": "stdout",
     "output_type": "stream",
     "text": [
      "{1, 2, 3, 5, 6, 7, 8, 9, 10, 11}\n"
     ]
    }
   ],
   "source": [
    "joint_set = some_set1.union(some_set2)\n",
    "print(joint_set)"
   ]
  },
  {
   "cell_type": "code",
   "execution_count": null,
   "metadata": {},
   "outputs": [],
   "source": []
  }
 ],
 "metadata": {
  "kernelspec": {
   "display_name": "Python 3",
   "language": "python",
   "name": "python3"
  },
  "language_info": {
   "codemirror_mode": {
    "name": "ipython",
    "version": 3
   },
   "file_extension": ".py",
   "mimetype": "text/x-python",
   "name": "python",
   "nbconvert_exporter": "python",
   "pygments_lexer": "ipython3",
   "version": "3.8.2"
  }
 },
 "nbformat": 4,
 "nbformat_minor": 4
}
