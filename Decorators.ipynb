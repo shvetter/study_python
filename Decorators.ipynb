{
 "cells": [
  {
   "cell_type": "markdown",
   "metadata": {},
   "source": [
    "Function in Python may be an argumetns.\n",
    "\n",
    "Functions may act like variables , act like first class citizines\n",
    "\n"
   ]
  },
  {
   "cell_type": "markdown",
   "metadata": {},
   "source": [
    "## Higher Order Function HOF\n",
    "\n",
    "Function that **accepts** inside of it **another function as parameter** or **return function**\n",
    "\n"
   ]
  },
  {
   "cell_type": "markdown",
   "metadata": {},
   "source": [
    "Let's create some decorator as example to see what is designed for:"
   ]
  },
  {
   "cell_type": "code",
   "execution_count": 3,
   "metadata": {},
   "outputs": [
    {
     "name": "stdout",
     "output_type": "stream",
     "text": [
      "******\n",
      "Hellooo\n",
      "******\n"
     ]
    }
   ],
   "source": [
    "def my_decorator(func):\n",
    "    def wrap_func():\n",
    "        print('******')\n",
    "        func()\n",
    "        print('******')\n",
    "    return wrap_func\n",
    "\n",
    "@my_decorator\n",
    "def hello():\n",
    "    print('Hellooo')\n",
    "    \n",
    "hello()"
   ]
  },
  {
   "cell_type": "code",
   "execution_count": 4,
   "metadata": {},
   "outputs": [
    {
     "name": "stdout",
     "output_type": "stream",
     "text": [
      "how are you?\n"
     ]
    }
   ],
   "source": [
    "def howareyou():\n",
    "    print('how are you?')\n",
    "    \n",
    "howareyou()"
   ]
  },
  {
   "cell_type": "code",
   "execution_count": 9,
   "metadata": {},
   "outputs": [
    {
     "name": "stdout",
     "output_type": "stream",
     "text": [
      "******\n",
      "how are you?\n",
      "******\n"
     ]
    }
   ],
   "source": [
    "@my_decorator\n",
    "def howareyou():\n",
    "    print('how are you?')\n",
    "    \n",
    "howareyou()"
   ]
  },
  {
   "cell_type": "markdown",
   "metadata": {},
   "source": [
    "So we can show how decorators works on previous example:\n",
    "\n",
    "It HOF that accept another function as argument and return function\n",
    "\n",
    "We can rewrite our code as follows to have same result and see what is decorator underneath the hood:"
   ]
  },
  {
   "cell_type": "code",
   "execution_count": 11,
   "metadata": {},
   "outputs": [
    {
     "name": "stdout",
     "output_type": "stream",
     "text": [
      "******\n",
      "i am some func))\n",
      "******\n"
     ]
    }
   ],
   "source": [
    "# we have some function:\n",
    "def some_func():\n",
    "    print('i am some func))')\n",
    "\n",
    "# let's use my_decorator as HOF function:\n",
    "func_without_decorator = my_decorator(some_func)\n",
    "\n",
    "func_without_decorator()"
   ]
  },
  {
   "cell_type": "markdown",
   "metadata": {},
   "source": [
    "As we see the result is exactly the same. Or we can use the following code:"
   ]
  },
  {
   "cell_type": "code",
   "execution_count": 12,
   "metadata": {},
   "outputs": [
    {
     "name": "stdout",
     "output_type": "stream",
     "text": [
      "******\n",
      "i am some func))\n",
      "******\n"
     ]
    }
   ],
   "source": [
    "my_decorator(some_func)()"
   ]
  },
  {
   "cell_type": "markdown",
   "metadata": {},
   "source": [
    "But what if function has parameters"
   ]
  },
  {
   "cell_type": "code",
   "execution_count": 13,
   "metadata": {},
   "outputs": [],
   "source": [
    "def new_decorator(func):\n",
    "    def wrapped_func(*args, **kwargs):\n",
    "        print('******')\n",
    "        func(*args, **kwargs)\n",
    "        print('******')\n",
    "    return wrapped_func"
   ]
  },
  {
   "cell_type": "code",
   "execution_count": 14,
   "metadata": {},
   "outputs": [
    {
     "name": "stdout",
     "output_type": "stream",
     "text": [
      "******\n",
      "hellooo 0\n",
      "******\n"
     ]
    }
   ],
   "source": [
    "@new_decorator\n",
    "def prntsmth(word, number=0):\n",
    "    print(word,number)\n",
    "    \n",
    "prntsmth('hellooo')"
   ]
  },
  {
   "cell_type": "markdown",
   "metadata": {},
   "source": [
    "### Practical application of decorators"
   ]
  },
  {
   "cell_type": "markdown",
   "metadata": {},
   "source": [
    "**Perfomance decorator**\n",
    "\n"
   ]
  },
  {
   "cell_type": "code",
   "execution_count": 18,
   "metadata": {},
   "outputs": [
    {
     "name": "stdout",
     "output_type": "stream",
     "text": [
      "It took 1.5330326557159424 s\n"
     ]
    }
   ],
   "source": [
    "from time import time\n",
    "\n",
    "def perfomance(func):\n",
    "    def wrapped_func(*args, **kwargs):\n",
    "        t1 = time()\n",
    "        result = func(*args, **kwargs)\n",
    "        t2 = time()\n",
    "        print(f'It took {t2 - t1} s')\n",
    "        return result\n",
    "    return wrapped_func\n",
    "\n",
    "\n",
    "@perfomance\n",
    "def long_time():\n",
    "    for i in range(10000000):\n",
    "        i*5\n",
    "        \n",
    "long_time()"
   ]
  },
  {
   "cell_type": "markdown",
   "metadata": {},
   "source": [
    "Exercise example:\n"
   ]
  },
  {
   "cell_type": "code",
   "execution_count": 19,
   "metadata": {},
   "outputs": [
    {
     "name": "stdout",
     "output_type": "stream",
     "text": [
      "message has been sent\n"
     ]
    }
   ],
   "source": [
    "# Create an @authenticated decorator that only allows the function to run is user1 has 'valid' set to True:\n",
    "user1 = {\n",
    "    'name': 'Sorna',\n",
    "    'valid': True #changing this will either run or not run the message_friends function.\n",
    "}\n",
    "\n",
    "def authenticated(fn):\n",
    "  def wrap_fn(*args, **kwargs):\n",
    "    if args[0]['valid']:\n",
    "      return fn(*args, **kwargs)\n",
    "  return wrap_fn\n",
    "    \n",
    "\n",
    "@authenticated\n",
    "def message_friends(user):\n",
    "    print('message has been sent')\n",
    "\n",
    "message_friends(user1)"
   ]
  },
  {
   "cell_type": "markdown",
   "metadata": {},
   "source": [
    "### NOTES:\n",
    "\n",
    "- decorator is func that retruns func. Note that when define decorator we take anoter func without args\n",
    "- decorator requirs wrapper func to work corectly\n",
    "- wrapper func needed to accept args\n",
    "- decorator at the end retrunrs wrapper func and wrapper retrurns func\n",
    "\n",
    "In short decorator will looks like this:"
   ]
  },
  {
   "cell_type": "code",
   "execution_count": null,
   "metadata": {},
   "outputs": [],
   "source": [
    "def decorato(func):\n",
    "    def wrapper(*args, **kwargs):\n",
    "        # do something\n",
    "        result = func(*args, **kwargs)\n",
    "        # do smth else if needed\n",
    "        return result\n",
    "    return wrapper\n",
    "\n",
    "@decorator\n",
    "def some_func(num,val):\n",
    "    pass"
   ]
  }
 ],
 "metadata": {
  "kernelspec": {
   "display_name": "Python 3.8.2 64-bit",
   "language": "python",
   "name": "python38264bit13e034bf8dfa4e579581ad3881c4fad6"
  },
  "language_info": {
   "codemirror_mode": {
    "name": "ipython",
    "version": 3
   },
   "file_extension": ".py",
   "mimetype": "text/x-python",
   "name": "python",
   "nbconvert_exporter": "python",
   "pygments_lexer": "ipython3",
   "version": "3.8.2"
  }
 },
 "nbformat": 4,
 "nbformat_minor": 4
}
