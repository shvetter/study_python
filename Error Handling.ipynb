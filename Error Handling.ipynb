{
 "cells": [
  {
   "cell_type": "markdown",
   "metadata": {},
   "source": [
    "https://docs.python.org/3/library/exceptions.html\n",
    "\n",
    "Error that crush our program is called an **exeption** (like TypeError and so)\n",
    "\n",
    "If interpreter have no idea what is going on, error arise.\n",
    "\n",
    "That is why we can **Handle error**. \n",
    "\n",
    "We can strill run program even if we have some error in Python\n",
    "\n"
   ]
  },
  {
   "cell_type": "markdown",
   "metadata": {},
   "source": [
    "Let's go deeper in **Error Handling** and how it works:"
   ]
  },
  {
   "cell_type": "code",
   "execution_count": 3,
   "metadata": {},
   "outputs": [
    {
     "name": "stdout",
     "output_type": "stream",
     "text": [
      "what is your age df\n"
     ]
    },
    {
     "ename": "ValueError",
     "evalue": "invalid literal for int() with base 10: 'df'",
     "output_type": "error",
     "traceback": [
      "\u001b[1;31m---------------------------------------------------------------------------\u001b[0m",
      "\u001b[1;31mValueError\u001b[0m                                Traceback (most recent call last)",
      "\u001b[1;32m<ipython-input-3-5e395e79e411>\u001b[0m in \u001b[0;36m<module>\u001b[1;34m\u001b[0m\n\u001b[1;32m----> 1\u001b[1;33m \u001b[0mage\u001b[0m \u001b[1;33m=\u001b[0m \u001b[0mint\u001b[0m\u001b[1;33m(\u001b[0m\u001b[0minput\u001b[0m\u001b[1;33m(\u001b[0m\u001b[1;34m'what is your age '\u001b[0m\u001b[1;33m)\u001b[0m\u001b[1;33m)\u001b[0m\u001b[1;33m\u001b[0m\u001b[1;33m\u001b[0m\u001b[0m\n\u001b[0m",
      "\u001b[1;31mValueError\u001b[0m: invalid literal for int() with base 10: 'df'"
     ]
    }
   ],
   "source": [
    "#Promt user to give some number\n",
    "age = int(input('what is your age '))\n",
    "\n",
    "#if input is not a digit, following error arised:"
   ]
  },
  {
   "cell_type": "markdown",
   "metadata": {},
   "source": [
    "Now try using **Error handling**"
   ]
  },
  {
   "cell_type": "code",
   "execution_count": 7,
   "metadata": {},
   "outputs": [
    {
     "name": "stdout",
     "output_type": "stream",
     "text": [
      "what is your age? er\n",
      "age must be an integer\n"
     ]
    }
   ],
   "source": [
    "try:\n",
    "    age = int(input('what is your age? '))\n",
    "    print(age)\n",
    "except:\n",
    "    print('age must be an integer')"
   ]
  },
  {
   "cell_type": "markdown",
   "metadata": {},
   "source": [
    "But to make it works again again until the correct input (some number in this case), lets wrap it all in while True loop\n",
    "\n",
    "And explain in comments how it works. Piace by piece"
   ]
  },
  {
   "cell_type": "code",
   "execution_count": 8,
   "metadata": {},
   "outputs": [
    {
     "name": "stdout",
     "output_type": "stream",
     "text": [
      "what is your age? tdf\n",
      "age must be an integer\n",
      "what is your age? 34\n",
      "34\n"
     ]
    }
   ],
   "source": [
    "# make while loop (infinite until break)\n",
    "while True:\n",
    "    # try do the following:\n",
    "    try:\n",
    "        age = int(input('what is your age? '))\n",
    "        print(age)\n",
    "    # if there is some error, because of wrong input, do following:\n",
    "    except:\n",
    "        print('age must be an integer')\n",
    "    # however is there is no error in try section:\n",
    "    else:\n",
    "        break"
   ]
  },
  {
   "cell_type": "markdown",
   "metadata": {},
   "source": [
    "*while True try except else*\n",
    "\n",
    "This block is used as one thing"
   ]
  },
  {
   "cell_type": "markdown",
   "metadata": {},
   "source": [
    "Turns out that we can handle different types of errors"
   ]
  },
  {
   "cell_type": "code",
   "execution_count": 9,
   "metadata": {},
   "outputs": [
    {
     "name": "stdout",
     "output_type": "stream",
     "text": [
      "what is your age? 0\n",
      "age must be > 0\n",
      "what is your age? rf\n",
      "age must be an integer\n",
      "what is your age? 34\n",
      "2.9411764705882355\n"
     ]
    }
   ],
   "source": [
    "while True:\n",
    "    # try do the following:\n",
    "    try:\n",
    "        age = int(input('what is your age? '))\n",
    "        print(100/age)\n",
    "    # if there is value error, because of wrong input, do following:\n",
    "    except ValueError:\n",
    "        print('age must be an integer')\n",
    "   # if there is zero division error:\n",
    "    except ZeroDivisionError:\n",
    "        print('age must be > 0')\n",
    "     # however is there is no error in try section:\n",
    "    else:\n",
    "        break"
   ]
  },
  {
   "cell_type": "markdown",
   "metadata": {},
   "source": [
    "If we want see what error occured we can do following:"
   ]
  },
  {
   "cell_type": "code",
   "execution_count": 11,
   "metadata": {},
   "outputs": [
    {
     "name": "stdout",
     "output_type": "stream",
     "text": [
      "There is error: unsupported operand type(s) for +: 'int' and 'str'\n"
     ]
    }
   ],
   "source": [
    "def totals(num1,num2):\n",
    "    try:\n",
    "        return num1 + num2\n",
    "    except TypeError as tp_er:\n",
    "        print(f'There is error: {tp_er}')\n",
    "\n",
    "totals(1, '4')"
   ]
  },
  {
   "cell_type": "code",
   "execution_count": 12,
   "metadata": {},
   "outputs": [
    {
     "data": {
      "text/plain": [
       "5"
      ]
     },
     "execution_count": 12,
     "metadata": {},
     "output_type": "execute_result"
    }
   ],
   "source": [
    "totals(1,4)"
   ]
  },
  {
   "cell_type": "markdown",
   "metadata": {},
   "source": [
    "**finaly** keyword"
   ]
  },
  {
   "cell_type": "code",
   "execution_count": 4,
   "metadata": {},
   "outputs": [],
   "source": [
    "def w_age():\n",
    "    while True:\n",
    "        # try do the following:\n",
    "        try:\n",
    "            age = int(input('what is your age?                          '))\n",
    "            return 100/age\n",
    "        # if there is value error, because of wrong input, do following:\n",
    "        except ValueError:\n",
    "            print('age must be an integer')\n",
    "       # if there is zero division error:\n",
    "        except ZeroDivisionError:\n",
    "            print('age must be > 0')\n",
    "         # however is there is no error in try section:\n",
    "        else:\n",
    "            print('everything OK')\n",
    "            break\n",
    "        finally:\n",
    "            print('are you still here?\\n')"
   ]
  },
  {
   "cell_type": "code",
   "execution_count": 5,
   "metadata": {},
   "outputs": [
    {
     "name": "stdout",
     "output_type": "stream",
     "text": [
      "what is your age?                          rt\n",
      "age must be an integer\n",
      "are you still here?\n",
      "\n",
      "what is your age?                          0\n",
      "age must be > 0\n",
      "are you still here?\n",
      "\n",
      "what is your age?                          12\n",
      "are you still here?\n",
      "\n"
     ]
    },
    {
     "data": {
      "text/plain": [
       "8.333333333333334"
      ]
     },
     "execution_count": 5,
     "metadata": {},
     "output_type": "execute_result"
    }
   ],
   "source": [
    "w_age()"
   ]
  },
  {
   "cell_type": "markdown",
   "metadata": {},
   "source": [
    "Now let's see how it works with *continue* and *break* keywords"
   ]
  },
  {
   "cell_type": "code",
   "execution_count": 1,
   "metadata": {},
   "outputs": [],
   "source": [
    "def w_age():\n",
    "    while True:\n",
    "        # try do the following:\n",
    "        try:\n",
    "            age = int(input('what is your age?                          '))\n",
    "            return 100/age\n",
    "        # if there is value error, because of wrong input, do following:\n",
    "        except ValueError:\n",
    "            print('age must be an integer')\n",
    "            continue\n",
    "       # if there is zero division error:\n",
    "        except ZeroDivisionError:\n",
    "            print('age must be > 0')\n",
    "            break\n",
    "         # however is there is no error in try section:\n",
    "        else:\n",
    "            print('everything OK')\n",
    "            break\n",
    "        finally:\n",
    "            print('are you still here?\\n')"
   ]
  },
  {
   "cell_type": "code",
   "execution_count": 2,
   "metadata": {},
   "outputs": [
    {
     "name": "stdout",
     "output_type": "stream",
     "text": [
      "what is your age?                          r\n",
      "age must be an integer\n",
      "are you still here?\n",
      "\n",
      "what is your age?                          0\n",
      "age must be > 0\n",
      "are you still here?\n",
      "\n"
     ]
    }
   ],
   "source": [
    "w_age()"
   ]
  },
  {
   "cell_type": "markdown",
   "metadata": {},
   "source": [
    "if enter 0 - loop is broken but **finally** still executed because it executed every time loop executed"
   ]
  },
  {
   "cell_type": "code",
   "execution_count": 3,
   "metadata": {},
   "outputs": [
    {
     "name": "stdout",
     "output_type": "stream",
     "text": [
      "what is your age?                          rt\n",
      "age must be an integer\n",
      "are you still here?\n",
      "\n",
      "what is your age?                          12\n",
      "are you still here?\n",
      "\n"
     ]
    },
    {
     "data": {
      "text/plain": [
       "8.333333333333334"
      ]
     },
     "execution_count": 3,
     "metadata": {},
     "output_type": "execute_result"
    }
   ],
   "source": [
    "w_age()"
   ]
  },
  {
   "cell_type": "markdown",
   "metadata": {},
   "source": [
    "If Value error arised, loop is continued, but finally still executed\n",
    "\n",
    "And finaly if we enterd correct value and no errors arise, *finally* still executed"
   ]
  },
  {
   "cell_type": "markdown",
   "metadata": {},
   "source": [
    "We can rise an error as well if we want program to be cut out"
   ]
  },
  {
   "cell_type": "code",
   "execution_count": 4,
   "metadata": {},
   "outputs": [
    {
     "name": "stdout",
     "output_type": "stream",
     "text": [
      "what is your age? 5\n",
      "20.0\n",
      "age must be an integer\n",
      "what is your age? 0\n"
     ]
    },
    {
     "ename": "ZeroDivisionError",
     "evalue": "division by zero",
     "output_type": "error",
     "traceback": [
      "\u001b[1;31m---------------------------------------------------------------------------\u001b[0m",
      "\u001b[1;31mZeroDivisionError\u001b[0m                         Traceback (most recent call last)",
      "\u001b[1;32m<ipython-input-4-7d32a2c62970>\u001b[0m in \u001b[0;36m<module>\u001b[1;34m\u001b[0m\n\u001b[0;32m      3\u001b[0m     \u001b[1;32mtry\u001b[0m\u001b[1;33m:\u001b[0m\u001b[1;33m\u001b[0m\u001b[1;33m\u001b[0m\u001b[0m\n\u001b[0;32m      4\u001b[0m         \u001b[0mage\u001b[0m \u001b[1;33m=\u001b[0m \u001b[0mint\u001b[0m\u001b[1;33m(\u001b[0m\u001b[0minput\u001b[0m\u001b[1;33m(\u001b[0m\u001b[1;34m'what is your age? '\u001b[0m\u001b[1;33m)\u001b[0m\u001b[1;33m)\u001b[0m\u001b[1;33m\u001b[0m\u001b[1;33m\u001b[0m\u001b[0m\n\u001b[1;32m----> 5\u001b[1;33m         \u001b[0mprint\u001b[0m\u001b[1;33m(\u001b[0m\u001b[1;36m100\u001b[0m\u001b[1;33m/\u001b[0m\u001b[0mage\u001b[0m\u001b[1;33m)\u001b[0m\u001b[1;33m\u001b[0m\u001b[1;33m\u001b[0m\u001b[0m\n\u001b[0m\u001b[0;32m      6\u001b[0m         \u001b[1;31m# we want raise error here\u001b[0m\u001b[1;33m\u001b[0m\u001b[1;33m\u001b[0m\u001b[1;33m\u001b[0m\u001b[0m\n\u001b[0;32m      7\u001b[0m         \u001b[1;32mraise\u001b[0m \u001b[0mValueError\u001b[0m\u001b[1;33m(\u001b[0m\u001b[1;34m'program cut down'\u001b[0m\u001b[1;33m)\u001b[0m\u001b[1;33m\u001b[0m\u001b[1;33m\u001b[0m\u001b[0m\n",
      "\u001b[1;31mZeroDivisionError\u001b[0m: division by zero"
     ]
    }
   ],
   "source": [
    "while True:\n",
    "    # try do the following:\n",
    "    try:\n",
    "        age = int(input('what is your age? '))\n",
    "        print(100/age)\n",
    "        # we want raise error here\n",
    "        raise ValueError('program cut down')\n",
    "    except ValueError:\n",
    "        print('age must be an integer')\n",
    "   # if there is zero division error:\n",
    "    else:\n",
    "        break"
   ]
  },
  {
   "cell_type": "markdown",
   "metadata": {},
   "source": [
    "Despite we enter correct value, beacuse araise error we move to next block (exept ValueError)"
   ]
  },
  {
   "cell_type": "code",
   "execution_count": 5,
   "metadata": {},
   "outputs": [
    {
     "name": "stdout",
     "output_type": "stream",
     "text": [
      "what is your age? 5\n",
      "20.0\n"
     ]
    },
    {
     "ename": "ValueError",
     "evalue": "program cut down",
     "output_type": "error",
     "traceback": [
      "\u001b[1;31m---------------------------------------------------------------------------\u001b[0m",
      "\u001b[1;31mValueError\u001b[0m                                Traceback (most recent call last)",
      "\u001b[1;32m<ipython-input-5-a916ebe109e1>\u001b[0m in \u001b[0;36m<module>\u001b[1;34m\u001b[0m\n\u001b[0;32m      5\u001b[0m         \u001b[0mprint\u001b[0m\u001b[1;33m(\u001b[0m\u001b[1;36m100\u001b[0m\u001b[1;33m/\u001b[0m\u001b[0mage\u001b[0m\u001b[1;33m)\u001b[0m\u001b[1;33m\u001b[0m\u001b[1;33m\u001b[0m\u001b[0m\n\u001b[0;32m      6\u001b[0m         \u001b[1;31m# we want raise error here\u001b[0m\u001b[1;33m\u001b[0m\u001b[1;33m\u001b[0m\u001b[1;33m\u001b[0m\u001b[0m\n\u001b[1;32m----> 7\u001b[1;33m         \u001b[1;32mraise\u001b[0m \u001b[0mValueError\u001b[0m\u001b[1;33m(\u001b[0m\u001b[1;34m'program cut down'\u001b[0m\u001b[1;33m)\u001b[0m\u001b[1;33m\u001b[0m\u001b[1;33m\u001b[0m\u001b[0m\n\u001b[0m\u001b[0;32m      8\u001b[0m     \u001b[1;32mexcept\u001b[0m \u001b[0mZeroDivisionError\u001b[0m\u001b[1;33m:\u001b[0m\u001b[1;33m\u001b[0m\u001b[1;33m\u001b[0m\u001b[0m\n\u001b[0;32m      9\u001b[0m         \u001b[0mprint\u001b[0m\u001b[1;33m(\u001b[0m\u001b[1;34m'age must be > 0'\u001b[0m\u001b[1;33m)\u001b[0m\u001b[1;33m\u001b[0m\u001b[1;33m\u001b[0m\u001b[0m\n",
      "\u001b[1;31mValueError\u001b[0m: program cut down"
     ]
    }
   ],
   "source": [
    "while True:\n",
    "    # try do the following:\n",
    "    try:\n",
    "        age = int(input('what is your age? '))\n",
    "        print(100/age)\n",
    "        # we want raise error here\n",
    "        raise ValueError('program cut down')\n",
    "    except ZeroDivisionError:\n",
    "        print('age must be > 0')\n",
    "     # however is there is no error in try section:\n",
    "    else:\n",
    "        break"
   ]
  },
  {
   "cell_type": "code",
   "execution_count": null,
   "metadata": {},
   "outputs": [],
   "source": []
  }
 ],
 "metadata": {
  "kernelspec": {
   "display_name": "Python 3.8.2 64-bit",
   "language": "python",
   "name": "python38264bit13e034bf8dfa4e579581ad3881c4fad6"
  },
  "language_info": {
   "codemirror_mode": {
    "name": "ipython",
    "version": 3
   },
   "file_extension": ".py",
   "mimetype": "text/x-python",
   "name": "python",
   "nbconvert_exporter": "python",
   "pygments_lexer": "ipython3",
   "version": "3.8.2"
  }
 },
 "nbformat": 4,
 "nbformat_minor": 4
}
