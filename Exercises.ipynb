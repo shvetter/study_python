{
 "cells": [
  {
   "cell_type": "markdown",
   "metadata": {},
   "source": [
    "https://github.com/darkprinx/100-plus-Python-programming-exercises-extended/blob/master/Status/Day_24.md"
   ]
  },
  {
   "cell_type": "code",
   "execution_count": 1,
   "metadata": {},
   "outputs": [],
   "source": [
    "ls = [1,2,3,4,5,6,7,8,9]"
   ]
  },
  {
   "cell_type": "code",
   "execution_count": 2,
   "metadata": {},
   "outputs": [],
   "source": [
    "vb = [i**2 for i in ls]"
   ]
  },
  {
   "cell_type": "code",
   "execution_count": 3,
   "metadata": {},
   "outputs": [
    {
     "data": {
      "text/plain": [
       "[1, 4, 9, 16, 25, 36, 49, 64, 81]"
      ]
     },
     "execution_count": 3,
     "metadata": {},
     "output_type": "execute_result"
    }
   ],
   "source": [
    "vb"
   ]
  },
  {
   "cell_type": "code",
   "execution_count": 4,
   "metadata": {},
   "outputs": [
    {
     "name": "stdout",
     "output_type": "stream",
     "text": [
      "3\n",
      "as\n",
      "df\n",
      "as\n",
      "2\n",
      "2 1 "
     ]
    }
   ],
   "source": [
    "n = int(input())\n",
    "\n",
    "word_list = []\n",
    "word_dict = {}\n",
    "\n",
    "for i in range(n):\n",
    "    word = input()\n",
    "    if word not in word_dict:\n",
    "        word_list.append(word)\n",
    "    word_dict[word] = word_dict.get(word, 0) + 1\n",
    "\n",
    "print(len(word_list))\n",
    "for word in word_list:\n",
    "    print(word_dict[word], end=' ')"
   ]
  },
  {
   "cell_type": "markdown",
   "metadata": {},
   "source": [
    "Question 101\n",
    "Question\n",
    "You are given a string.Your task is to count the frequency of letters of the string and print the letters in descending order of frequency.\n",
    "\n",
    "If the following string is given as input to the program:\n",
    "\n",
    "\n",
    "aabbbccde\n",
    "\n",
    "\n",
    "Then, the output of the program should be:\n",
    "\n",
    "\n",
    "    b 3\n",
    "    a 2\n",
    "    c 2\n",
    "    d 1\n",
    "    e 1\n",
    "\n",
    "\n",
    "Hints\n",
    "Count frequency with dictionary and sort by Value from dictionary Items"
   ]
  },
  {
   "cell_type": "code",
   "execution_count": 5,
   "metadata": {},
   "outputs": [],
   "source": [
    "string = 'aabbbccde'\n",
    "\n",
    "strdict = {}\n",
    "for char in string:\n",
    "    if char not in strdict:\n",
    "        strdict[char] = strdict.get(char,0) + 1\n",
    "    else:\n",
    "        strdict[char] += 1"
   ]
  },
  {
   "cell_type": "code",
   "execution_count": 11,
   "metadata": {},
   "outputs": [],
   "source": [
    "sortdic = dict(sorted(strdict.items(), key = lambda x: x[1], reverse=True))"
   ]
  },
  {
   "cell_type": "code",
   "execution_count": 14,
   "metadata": {},
   "outputs": [
    {
     "name": "stdout",
     "output_type": "stream",
     "text": [
      "b 3\n",
      "a 2\n",
      "c 2\n",
      "d 1\n",
      "e 1\n"
     ]
    }
   ],
   "source": [
    "for k,v in sortdic.items():\n",
    "    print(k,v)"
   ]
  },
  {
   "cell_type": "code",
   "execution_count": null,
   "metadata": {},
   "outputs": [],
   "source": []
  }
 ],
 "metadata": {
  "kernelspec": {
   "display_name": "Python 3",
   "language": "python",
   "name": "python3"
  },
  "language_info": {
   "codemirror_mode": {
    "name": "ipython",
    "version": 3
   },
   "file_extension": ".py",
   "mimetype": "text/x-python",
   "name": "python",
   "nbconvert_exporter": "python",
   "pygments_lexer": "ipython3",
   "version": "3.8.2"
  }
 },
 "nbformat": 4,
 "nbformat_minor": 4
}
